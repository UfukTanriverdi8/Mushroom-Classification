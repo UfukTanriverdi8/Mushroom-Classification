{
  "cells": [
    {
      "cell_type": "markdown",
      "metadata": {
        "id": "BEsZiQWwPOrf"
      },
      "source": [
        "# Mushroom Classification\n",
        "This is a quick project to test different machine learning models on a cleaned\n",
        "simple dataset. This [dataset](https://www.kaggle.com/datasets/prishasawhney/mushroom-dataset) consists of 61069 hypothetical mushrooms with caps based on 173 species (353 mushrooms per species). Each mushroom is identified as definitely edible or definitely poisonous. Based on this dataset we will try to predict a given mushroom is edible or not by using its features.\n",
        "\n",
        "You can also access this notebook from [Kaggle](https://www.kaggle.com/code/ufuktanriverdi/mushroom-classification)."
      ]
    },
    {
      "cell_type": "markdown",
      "metadata": {
        "id": "4T_mY0fHrwAf"
      },
      "source": [
        "# Importing Dependencies"
      ]
    },
    {
      "cell_type": "code",
      "execution_count": 1,
      "metadata": {
        "id": "kKMaJ-rLrwAg"
      },
      "outputs": [],
      "source": [
        "import pandas as pd\n",
        "import matplotlib.pyplot as plt\n",
        "from sklearn.preprocessing import StandardScaler\n",
        "from sklearn.model_selection import train_test_split\n",
        "from sklearn.metrics import accuracy_score, precision_score, recall_score, f1_score, classification_report\n",
        "from sklearn.pipeline import make_pipeline\n",
        "from sklearn.linear_model import LogisticRegression\n",
        "from sklearn.ensemble import RandomForestClassifier\n",
        "from sklearn.svm import SVC\n",
        "from sklearn.neighbors import KNeighborsClassifier\n",
        "import seaborn as sns\n",
        "from sklearn.naive_bayes import GaussianNB\n",
        "from sklearn import tree\n",
        "import xgboost as xgb\n",
        "import tensorflow as tf"
      ]
    },
    {
      "cell_type": "markdown",
      "metadata": {
        "id": "ArJ4NrX_rwAh"
      },
      "source": [
        "# Loading and Analyzing the data"
      ]
    },
    {
      "cell_type": "code",
      "execution_count": 28,
      "metadata": {
        "id": "F_gmb4UYrwAi"
      },
      "outputs": [],
      "source": [
        "df = pd.read_csv(\"mushrooms_cleaned.csv\")"
      ]
    },
    {
      "cell_type": "code",
      "execution_count": 3,
      "metadata": {
        "colab": {
          "base_uri": "https://localhost:8080/",
          "height": 206
        },
        "id": "dHrrFimqrwAi",
        "outputId": "cf3b3e00-e131-4e1d-d706-1613bd122690"
      },
      "outputs": [
        {
          "data": {
            "application/vnd.google.colaboratory.intrinsic+json": {
              "summary": "{\n  \"name\": \"df\",\n  \"rows\": 54035,\n  \"fields\": [\n    {\n      \"column\": \"cap-diameter\",\n      \"properties\": {\n        \"dtype\": \"number\",\n        \"std\": 359,\n        \"min\": 0,\n        \"max\": 1891,\n        \"num_unique_values\": 1847,\n        \"samples\": [\n          11,\n          1677,\n          44\n        ],\n        \"semantic_type\": \"\",\n        \"description\": \"\"\n      }\n    },\n    {\n      \"column\": \"cap-shape\",\n      \"properties\": {\n        \"dtype\": \"number\",\n        \"std\": 2,\n        \"min\": 0,\n        \"max\": 6,\n        \"num_unique_values\": 7,\n        \"samples\": [\n          2,\n          6,\n          5\n        ],\n        \"semantic_type\": \"\",\n        \"description\": \"\"\n      }\n    },\n    {\n      \"column\": \"gill-attachment\",\n      \"properties\": {\n        \"dtype\": \"number\",\n        \"std\": 2,\n        \"min\": 0,\n        \"max\": 6,\n        \"num_unique_values\": 7,\n        \"samples\": [\n          2,\n          0,\n          4\n        ],\n        \"semantic_type\": \"\",\n        \"description\": \"\"\n      }\n    },\n    {\n      \"column\": \"gill-color\",\n      \"properties\": {\n        \"dtype\": \"number\",\n        \"std\": 3,\n        \"min\": 0,\n        \"max\": 11,\n        \"num_unique_values\": 12,\n        \"samples\": [\n          4,\n          6,\n          10\n        ],\n        \"semantic_type\": \"\",\n        \"description\": \"\"\n      }\n    },\n    {\n      \"column\": \"stem-height\",\n      \"properties\": {\n        \"dtype\": \"number\",\n        \"std\": 0.6509686159221912,\n        \"min\": 0.0004256969608359,\n        \"max\": 3.8353196773222433,\n        \"num_unique_values\": 1455,\n        \"samples\": [\n          0.004404685938308,\n          1.826781637620518,\n          1.396199434131862\n        ],\n        \"semantic_type\": \"\",\n        \"description\": \"\"\n      }\n    },\n    {\n      \"column\": \"stem-width\",\n      \"properties\": {\n        \"dtype\": \"number\",\n        \"std\": 782,\n        \"min\": 0,\n        \"max\": 3569,\n        \"num_unique_values\": 3510,\n        \"samples\": [\n          3028,\n          1505,\n          3516\n        ],\n        \"semantic_type\": \"\",\n        \"description\": \"\"\n      }\n    },\n    {\n      \"column\": \"stem-color\",\n      \"properties\": {\n        \"dtype\": \"number\",\n        \"std\": 3,\n        \"min\": 0,\n        \"max\": 12,\n        \"num_unique_values\": 13,\n        \"samples\": [\n          7,\n          4,\n          11\n        ],\n        \"semantic_type\": \"\",\n        \"description\": \"\"\n      }\n    },\n    {\n      \"column\": \"season\",\n      \"properties\": {\n        \"dtype\": \"number\",\n        \"std\": 0.3055935859378124,\n        \"min\": 0.0273721330556057,\n        \"max\": 1.804272708628173,\n        \"num_unique_values\": 4,\n        \"samples\": [\n          0.9431945538974952,\n          0.0273721330556057,\n          1.804272708628173\n        ],\n        \"semantic_type\": \"\",\n        \"description\": \"\"\n      }\n    },\n    {\n      \"column\": \"class\",\n      \"properties\": {\n        \"dtype\": \"number\",\n        \"std\": 0,\n        \"min\": 0,\n        \"max\": 1,\n        \"num_unique_values\": 2,\n        \"samples\": [\n          0,\n          1\n        ],\n        \"semantic_type\": \"\",\n        \"description\": \"\"\n      }\n    }\n  ]\n}",
              "type": "dataframe",
              "variable_name": "df"
            },
            "text/html": [
              "\n",
              "  <div id=\"df-70ff5ef6-14f6-42a7-bb8d-992750d69089\" class=\"colab-df-container\">\n",
              "    <div>\n",
              "<style scoped>\n",
              "    .dataframe tbody tr th:only-of-type {\n",
              "        vertical-align: middle;\n",
              "    }\n",
              "\n",
              "    .dataframe tbody tr th {\n",
              "        vertical-align: top;\n",
              "    }\n",
              "\n",
              "    .dataframe thead th {\n",
              "        text-align: right;\n",
              "    }\n",
              "</style>\n",
              "<table border=\"1\" class=\"dataframe\">\n",
              "  <thead>\n",
              "    <tr style=\"text-align: right;\">\n",
              "      <th></th>\n",
              "      <th>cap-diameter</th>\n",
              "      <th>cap-shape</th>\n",
              "      <th>gill-attachment</th>\n",
              "      <th>gill-color</th>\n",
              "      <th>stem-height</th>\n",
              "      <th>stem-width</th>\n",
              "      <th>stem-color</th>\n",
              "      <th>season</th>\n",
              "      <th>class</th>\n",
              "    </tr>\n",
              "  </thead>\n",
              "  <tbody>\n",
              "    <tr>\n",
              "      <th>0</th>\n",
              "      <td>1372</td>\n",
              "      <td>2</td>\n",
              "      <td>2</td>\n",
              "      <td>10</td>\n",
              "      <td>3.807467</td>\n",
              "      <td>1545</td>\n",
              "      <td>11</td>\n",
              "      <td>1.804273</td>\n",
              "      <td>1</td>\n",
              "    </tr>\n",
              "    <tr>\n",
              "      <th>1</th>\n",
              "      <td>1461</td>\n",
              "      <td>2</td>\n",
              "      <td>2</td>\n",
              "      <td>10</td>\n",
              "      <td>3.807467</td>\n",
              "      <td>1557</td>\n",
              "      <td>11</td>\n",
              "      <td>1.804273</td>\n",
              "      <td>1</td>\n",
              "    </tr>\n",
              "    <tr>\n",
              "      <th>2</th>\n",
              "      <td>1371</td>\n",
              "      <td>2</td>\n",
              "      <td>2</td>\n",
              "      <td>10</td>\n",
              "      <td>3.612496</td>\n",
              "      <td>1566</td>\n",
              "      <td>11</td>\n",
              "      <td>1.804273</td>\n",
              "      <td>1</td>\n",
              "    </tr>\n",
              "    <tr>\n",
              "      <th>3</th>\n",
              "      <td>1261</td>\n",
              "      <td>6</td>\n",
              "      <td>2</td>\n",
              "      <td>10</td>\n",
              "      <td>3.787572</td>\n",
              "      <td>1566</td>\n",
              "      <td>11</td>\n",
              "      <td>1.804273</td>\n",
              "      <td>1</td>\n",
              "    </tr>\n",
              "    <tr>\n",
              "      <th>4</th>\n",
              "      <td>1305</td>\n",
              "      <td>6</td>\n",
              "      <td>2</td>\n",
              "      <td>10</td>\n",
              "      <td>3.711971</td>\n",
              "      <td>1464</td>\n",
              "      <td>11</td>\n",
              "      <td>0.943195</td>\n",
              "      <td>1</td>\n",
              "    </tr>\n",
              "  </tbody>\n",
              "</table>\n",
              "</div>\n",
              "    <div class=\"colab-df-buttons\">\n",
              "\n",
              "  <div class=\"colab-df-container\">\n",
              "    <button class=\"colab-df-convert\" onclick=\"convertToInteractive('df-70ff5ef6-14f6-42a7-bb8d-992750d69089')\"\n",
              "            title=\"Convert this dataframe to an interactive table.\"\n",
              "            style=\"display:none;\">\n",
              "\n",
              "  <svg xmlns=\"http://www.w3.org/2000/svg\" height=\"24px\" viewBox=\"0 -960 960 960\">\n",
              "    <path d=\"M120-120v-720h720v720H120Zm60-500h600v-160H180v160Zm220 220h160v-160H400v160Zm0 220h160v-160H400v160ZM180-400h160v-160H180v160Zm440 0h160v-160H620v160ZM180-180h160v-160H180v160Zm440 0h160v-160H620v160Z\"/>\n",
              "  </svg>\n",
              "    </button>\n",
              "\n",
              "  <style>\n",
              "    .colab-df-container {\n",
              "      display:flex;\n",
              "      gap: 12px;\n",
              "    }\n",
              "\n",
              "    .colab-df-convert {\n",
              "      background-color: #E8F0FE;\n",
              "      border: none;\n",
              "      border-radius: 50%;\n",
              "      cursor: pointer;\n",
              "      display: none;\n",
              "      fill: #1967D2;\n",
              "      height: 32px;\n",
              "      padding: 0 0 0 0;\n",
              "      width: 32px;\n",
              "    }\n",
              "\n",
              "    .colab-df-convert:hover {\n",
              "      background-color: #E2EBFA;\n",
              "      box-shadow: 0px 1px 2px rgba(60, 64, 67, 0.3), 0px 1px 3px 1px rgba(60, 64, 67, 0.15);\n",
              "      fill: #174EA6;\n",
              "    }\n",
              "\n",
              "    .colab-df-buttons div {\n",
              "      margin-bottom: 4px;\n",
              "    }\n",
              "\n",
              "    [theme=dark] .colab-df-convert {\n",
              "      background-color: #3B4455;\n",
              "      fill: #D2E3FC;\n",
              "    }\n",
              "\n",
              "    [theme=dark] .colab-df-convert:hover {\n",
              "      background-color: #434B5C;\n",
              "      box-shadow: 0px 1px 3px 1px rgba(0, 0, 0, 0.15);\n",
              "      filter: drop-shadow(0px 1px 2px rgba(0, 0, 0, 0.3));\n",
              "      fill: #FFFFFF;\n",
              "    }\n",
              "  </style>\n",
              "\n",
              "    <script>\n",
              "      const buttonEl =\n",
              "        document.querySelector('#df-70ff5ef6-14f6-42a7-bb8d-992750d69089 button.colab-df-convert');\n",
              "      buttonEl.style.display =\n",
              "        google.colab.kernel.accessAllowed ? 'block' : 'none';\n",
              "\n",
              "      async function convertToInteractive(key) {\n",
              "        const element = document.querySelector('#df-70ff5ef6-14f6-42a7-bb8d-992750d69089');\n",
              "        const dataTable =\n",
              "          await google.colab.kernel.invokeFunction('convertToInteractive',\n",
              "                                                    [key], {});\n",
              "        if (!dataTable) return;\n",
              "\n",
              "        const docLinkHtml = 'Like what you see? Visit the ' +\n",
              "          '<a target=\"_blank\" href=https://colab.research.google.com/notebooks/data_table.ipynb>data table notebook</a>'\n",
              "          + ' to learn more about interactive tables.';\n",
              "        element.innerHTML = '';\n",
              "        dataTable['output_type'] = 'display_data';\n",
              "        await google.colab.output.renderOutput(dataTable, element);\n",
              "        const docLink = document.createElement('div');\n",
              "        docLink.innerHTML = docLinkHtml;\n",
              "        element.appendChild(docLink);\n",
              "      }\n",
              "    </script>\n",
              "  </div>\n",
              "\n",
              "\n",
              "<div id=\"df-43fd3dfc-1b34-4fd2-9cc8-4895ac151f53\">\n",
              "  <button class=\"colab-df-quickchart\" onclick=\"quickchart('df-43fd3dfc-1b34-4fd2-9cc8-4895ac151f53')\"\n",
              "            title=\"Suggest charts\"\n",
              "            style=\"display:none;\">\n",
              "\n",
              "<svg xmlns=\"http://www.w3.org/2000/svg\" height=\"24px\"viewBox=\"0 0 24 24\"\n",
              "     width=\"24px\">\n",
              "    <g>\n",
              "        <path d=\"M19 3H5c-1.1 0-2 .9-2 2v14c0 1.1.9 2 2 2h14c1.1 0 2-.9 2-2V5c0-1.1-.9-2-2-2zM9 17H7v-7h2v7zm4 0h-2V7h2v10zm4 0h-2v-4h2v4z\"/>\n",
              "    </g>\n",
              "</svg>\n",
              "  </button>\n",
              "\n",
              "<style>\n",
              "  .colab-df-quickchart {\n",
              "      --bg-color: #E8F0FE;\n",
              "      --fill-color: #1967D2;\n",
              "      --hover-bg-color: #E2EBFA;\n",
              "      --hover-fill-color: #174EA6;\n",
              "      --disabled-fill-color: #AAA;\n",
              "      --disabled-bg-color: #DDD;\n",
              "  }\n",
              "\n",
              "  [theme=dark] .colab-df-quickchart {\n",
              "      --bg-color: #3B4455;\n",
              "      --fill-color: #D2E3FC;\n",
              "      --hover-bg-color: #434B5C;\n",
              "      --hover-fill-color: #FFFFFF;\n",
              "      --disabled-bg-color: #3B4455;\n",
              "      --disabled-fill-color: #666;\n",
              "  }\n",
              "\n",
              "  .colab-df-quickchart {\n",
              "    background-color: var(--bg-color);\n",
              "    border: none;\n",
              "    border-radius: 50%;\n",
              "    cursor: pointer;\n",
              "    display: none;\n",
              "    fill: var(--fill-color);\n",
              "    height: 32px;\n",
              "    padding: 0;\n",
              "    width: 32px;\n",
              "  }\n",
              "\n",
              "  .colab-df-quickchart:hover {\n",
              "    background-color: var(--hover-bg-color);\n",
              "    box-shadow: 0 1px 2px rgba(60, 64, 67, 0.3), 0 1px 3px 1px rgba(60, 64, 67, 0.15);\n",
              "    fill: var(--button-hover-fill-color);\n",
              "  }\n",
              "\n",
              "  .colab-df-quickchart-complete:disabled,\n",
              "  .colab-df-quickchart-complete:disabled:hover {\n",
              "    background-color: var(--disabled-bg-color);\n",
              "    fill: var(--disabled-fill-color);\n",
              "    box-shadow: none;\n",
              "  }\n",
              "\n",
              "  .colab-df-spinner {\n",
              "    border: 2px solid var(--fill-color);\n",
              "    border-color: transparent;\n",
              "    border-bottom-color: var(--fill-color);\n",
              "    animation:\n",
              "      spin 1s steps(1) infinite;\n",
              "  }\n",
              "\n",
              "  @keyframes spin {\n",
              "    0% {\n",
              "      border-color: transparent;\n",
              "      border-bottom-color: var(--fill-color);\n",
              "      border-left-color: var(--fill-color);\n",
              "    }\n",
              "    20% {\n",
              "      border-color: transparent;\n",
              "      border-left-color: var(--fill-color);\n",
              "      border-top-color: var(--fill-color);\n",
              "    }\n",
              "    30% {\n",
              "      border-color: transparent;\n",
              "      border-left-color: var(--fill-color);\n",
              "      border-top-color: var(--fill-color);\n",
              "      border-right-color: var(--fill-color);\n",
              "    }\n",
              "    40% {\n",
              "      border-color: transparent;\n",
              "      border-right-color: var(--fill-color);\n",
              "      border-top-color: var(--fill-color);\n",
              "    }\n",
              "    60% {\n",
              "      border-color: transparent;\n",
              "      border-right-color: var(--fill-color);\n",
              "    }\n",
              "    80% {\n",
              "      border-color: transparent;\n",
              "      border-right-color: var(--fill-color);\n",
              "      border-bottom-color: var(--fill-color);\n",
              "    }\n",
              "    90% {\n",
              "      border-color: transparent;\n",
              "      border-bottom-color: var(--fill-color);\n",
              "    }\n",
              "  }\n",
              "</style>\n",
              "\n",
              "  <script>\n",
              "    async function quickchart(key) {\n",
              "      const quickchartButtonEl =\n",
              "        document.querySelector('#' + key + ' button');\n",
              "      quickchartButtonEl.disabled = true;  // To prevent multiple clicks.\n",
              "      quickchartButtonEl.classList.add('colab-df-spinner');\n",
              "      try {\n",
              "        const charts = await google.colab.kernel.invokeFunction(\n",
              "            'suggestCharts', [key], {});\n",
              "      } catch (error) {\n",
              "        console.error('Error during call to suggestCharts:', error);\n",
              "      }\n",
              "      quickchartButtonEl.classList.remove('colab-df-spinner');\n",
              "      quickchartButtonEl.classList.add('colab-df-quickchart-complete');\n",
              "    }\n",
              "    (() => {\n",
              "      let quickchartButtonEl =\n",
              "        document.querySelector('#df-43fd3dfc-1b34-4fd2-9cc8-4895ac151f53 button');\n",
              "      quickchartButtonEl.style.display =\n",
              "        google.colab.kernel.accessAllowed ? 'block' : 'none';\n",
              "    })();\n",
              "  </script>\n",
              "</div>\n",
              "\n",
              "    </div>\n",
              "  </div>\n"
            ],
            "text/plain": [
              "   cap-diameter  cap-shape  gill-attachment  gill-color  stem-height  \\\n",
              "0          1372          2                2          10     3.807467   \n",
              "1          1461          2                2          10     3.807467   \n",
              "2          1371          2                2          10     3.612496   \n",
              "3          1261          6                2          10     3.787572   \n",
              "4          1305          6                2          10     3.711971   \n",
              "\n",
              "   stem-width  stem-color    season  class  \n",
              "0        1545          11  1.804273      1  \n",
              "1        1557          11  1.804273      1  \n",
              "2        1566          11  1.804273      1  \n",
              "3        1566          11  1.804273      1  \n",
              "4        1464          11  0.943195      1  "
            ]
          },
          "execution_count": 3,
          "metadata": {},
          "output_type": "execute_result"
        }
      ],
      "source": [
        "df.head()"
      ]
    },
    {
      "cell_type": "code",
      "execution_count": 4,
      "metadata": {
        "colab": {
          "base_uri": "https://localhost:8080/"
        },
        "id": "VWKfwdS4rwAj",
        "outputId": "04bfca2f-495f-49e5-e736-c1eceb6d5b2b"
      },
      "outputs": [
        {
          "data": {
            "text/plain": [
              "(54035, 9)"
            ]
          },
          "execution_count": 4,
          "metadata": {},
          "output_type": "execute_result"
        }
      ],
      "source": [
        "df.shape"
      ]
    },
    {
      "cell_type": "code",
      "execution_count": 5,
      "metadata": {
        "colab": {
          "base_uri": "https://localhost:8080/"
        },
        "id": "1d_YEPTRrwAj",
        "outputId": "ce203d5f-fa5e-4d97-9fb1-8b480359c1d9"
      },
      "outputs": [
        {
          "name": "stdout",
          "output_type": "stream",
          "text": [
            "<class 'pandas.core.frame.DataFrame'>\n",
            "RangeIndex: 54035 entries, 0 to 54034\n",
            "Data columns (total 9 columns):\n",
            " #   Column           Non-Null Count  Dtype  \n",
            "---  ------           --------------  -----  \n",
            " 0   cap-diameter     54035 non-null  int64  \n",
            " 1   cap-shape        54035 non-null  int64  \n",
            " 2   gill-attachment  54035 non-null  int64  \n",
            " 3   gill-color       54035 non-null  int64  \n",
            " 4   stem-height      54035 non-null  float64\n",
            " 5   stem-width       54035 non-null  int64  \n",
            " 6   stem-color       54035 non-null  int64  \n",
            " 7   season           54035 non-null  float64\n",
            " 8   class            54035 non-null  int64  \n",
            "dtypes: float64(2), int64(7)\n",
            "memory usage: 3.7 MB\n"
          ]
        }
      ],
      "source": [
        "df.info()"
      ]
    },
    {
      "cell_type": "markdown",
      "metadata": {
        "id": "ZBd9QV2HrwAj"
      },
      "source": [
        "Data has 54035 rows and all of them are non-null values. It's perfectly clean and we do not need to drop anything from the data."
      ]
    },
    {
      "cell_type": "markdown",
      "metadata": {
        "id": "CawovcarrwAk"
      },
      "source": [
        "# Preparing the data for the training"
      ]
    },
    {
      "cell_type": "code",
      "execution_count": 7,
      "metadata": {
        "id": "zznflEkarwAk"
      },
      "outputs": [],
      "source": [
        "# Every column except the last column will be used as a feature\n",
        "x = df[df.columns[:-1]]\n",
        "# We will be trying to predict the last column which is called class.\n",
        "y = df[df.columns[-1]]"
      ]
    },
    {
      "cell_type": "code",
      "execution_count": 8,
      "metadata": {
        "id": "R1xZHSinrwAk"
      },
      "outputs": [],
      "source": [
        "# Splitting the data into two parts first\n",
        "x_train, x_test, y_train, y_test = train_test_split(x, y, test_size=0.2, stratify=y, random_state=1)\n",
        "# Then splitting the validation data from the training data\n",
        "x_train, x_val, y_train, y_val = train_test_split(x_train, y_train, test_size=0.2, stratify=y_train, random_state=1)\n",
        "# Training data -> 0.64\n",
        "# Validation data -> 0.16\n",
        "# Testing data -> 0.2"
      ]
    },
    {
      "cell_type": "markdown",
      "metadata": {
        "id": "s-G4M1A3rwAk"
      },
      "source": [
        "# Training the models"
      ]
    },
    {
      "cell_type": "markdown",
      "metadata": {
        "id": "ChW9mukDrwAl"
      },
      "source": [
        "This function will take the pipelines that we will define and train them with the given sets. It will return the performance metrics of the predictions after the training is done."
      ]
    },
    {
      "cell_type": "code",
      "execution_count": 9,
      "metadata": {
        "id": "csm7CA1ArwAl"
      },
      "outputs": [],
      "source": [
        "def run_model(pipeline, x_train, y_train, x_val, y_val, x_test, y_test):\n",
        "    # Fit the pipeline on training data\n",
        "    pipeline.fit(x_train, y_train)\n",
        "\n",
        "    # Predictions on validation and test set\n",
        "    y_val_pred = pipeline.predict(x_val)\n",
        "    y_test_pred = pipeline.predict(x_test)\n",
        "\n",
        "    # Collect metrics\n",
        "    metrics = {\n",
        "        'Model': str(pipeline.steps[-1][1].__class__.__name__),\n",
        "        'Validation Accuracy': accuracy_score(y_val, y_val_pred),\n",
        "        'Test Accuracy': accuracy_score(y_test, y_test_pred),\n",
        "        'Validation Precision': precision_score(y_val, y_val_pred),\n",
        "        'Test Precision': precision_score(y_test, y_test_pred),\n",
        "        'Validation Recall': recall_score(y_val, y_val_pred),\n",
        "        'Test Recall': recall_score(y_test, y_test_pred),\n",
        "        'Validation F1': f1_score(y_val, y_val_pred),\n",
        "        'Test F1': f1_score(y_test, y_test_pred)\n",
        "    }\n",
        "\n",
        "    # Prints all the metrics together\n",
        "    print(classification_report(y_test, y_test_pred))\n",
        "\n",
        "    return metrics\n",
        "\n",
        "# This will be useful for plotting all the metrics we have at the end of the code\n",
        "metrics_list = []\n",
        "def add_metrics(metrics):\n",
        "    for i in metrics_list:\n",
        "        if i[\"Model\"] == metrics[\"Model\"]:\n",
        "            metrics_list.remove(i)\n",
        "            break\n",
        "    metrics_list.append(metrics)"
      ]
    },
    {
      "cell_type": "markdown",
      "metadata": {
        "id": "8EsNc6rZrwAl"
      },
      "source": [
        "### Logistic Regression"
      ]
    },
    {
      "cell_type": "code",
      "execution_count": 10,
      "metadata": {
        "colab": {
          "base_uri": "https://localhost:8080/"
        },
        "id": "5fSjrfWirwAl",
        "outputId": "b6cde19a-a8f8-4219-ba54-055dd6b89f65"
      },
      "outputs": [
        {
          "name": "stdout",
          "output_type": "stream",
          "text": [
            "              precision    recall  f1-score   support\n",
            "\n",
            "           0       0.61      0.54      0.57      4872\n",
            "           1       0.65      0.71      0.68      5935\n",
            "\n",
            "    accuracy                           0.63     10807\n",
            "   macro avg       0.63      0.63      0.63     10807\n",
            "weighted avg       0.63      0.63      0.63     10807\n",
            "\n"
          ]
        }
      ],
      "source": [
        "lr_pipeline = make_pipeline(StandardScaler(), LogisticRegression())\n",
        "add_metrics(run_model(lr_pipeline, x_train, y_train, x_val, y_val, x_test, y_test))\n"
      ]
    },
    {
      "cell_type": "markdown",
      "metadata": {
        "id": "sYsbqZkzrwAl"
      },
      "source": [
        "### Random Forest Classifier"
      ]
    },
    {
      "cell_type": "code",
      "execution_count": 11,
      "metadata": {
        "colab": {
          "base_uri": "https://localhost:8080/"
        },
        "id": "7dx68Tt2rwAl",
        "outputId": "2632e39e-b332-4b95-a1ac-edfc5d540879"
      },
      "outputs": [
        {
          "name": "stdout",
          "output_type": "stream",
          "text": [
            "              precision    recall  f1-score   support\n",
            "\n",
            "           0       0.98      0.99      0.98      4872\n",
            "           1       0.99      0.98      0.99      5935\n",
            "\n",
            "    accuracy                           0.99     10807\n",
            "   macro avg       0.99      0.99      0.99     10807\n",
            "weighted avg       0.99      0.99      0.99     10807\n",
            "\n"
          ]
        }
      ],
      "source": [
        "rf_pipeline = make_pipeline(StandardScaler(), RandomForestClassifier(random_state=1, max_depth=14))\n",
        "add_metrics(run_model(rf_pipeline, x_train, y_train, x_val, y_val, x_test, y_test))"
      ]
    },
    {
      "cell_type": "markdown",
      "metadata": {
        "id": "MfmB_MGirwAm"
      },
      "source": [
        "### Support Vector Machine"
      ]
    },
    {
      "cell_type": "code",
      "execution_count": 12,
      "metadata": {
        "colab": {
          "base_uri": "https://localhost:8080/"
        },
        "id": "z-_VDxH8rwAm",
        "outputId": "a6104eac-eda4-46cc-ee38-9b1506ea6283"
      },
      "outputs": [
        {
          "name": "stdout",
          "output_type": "stream",
          "text": [
            "              precision    recall  f1-score   support\n",
            "\n",
            "           0       0.88      0.89      0.89      4872\n",
            "           1       0.91      0.90      0.91      5935\n",
            "\n",
            "    accuracy                           0.90     10807\n",
            "   macro avg       0.90      0.90      0.90     10807\n",
            "weighted avg       0.90      0.90      0.90     10807\n",
            "\n"
          ]
        }
      ],
      "source": [
        "svm_pipeline = make_pipeline(StandardScaler(), SVC())\n",
        "add_metrics(run_model(svm_pipeline, x_train, y_train, x_val, y_val, x_test, y_test))"
      ]
    },
    {
      "cell_type": "markdown",
      "metadata": {
        "id": "GzUONh3qrwAm"
      },
      "source": [
        "### K-Nearest Neighbors Classifier"
      ]
    },
    {
      "cell_type": "code",
      "execution_count": 13,
      "metadata": {
        "colab": {
          "base_uri": "https://localhost:8080/"
        },
        "id": "uf1V4KhLrwAm",
        "outputId": "da3fa439-6c7c-46cb-8602-fcae2ca9b831"
      },
      "outputs": [
        {
          "name": "stdout",
          "output_type": "stream",
          "text": [
            "              precision    recall  f1-score   support\n",
            "\n",
            "           0       0.99      0.99      0.99      4872\n",
            "           1       0.99      0.99      0.99      5935\n",
            "\n",
            "    accuracy                           0.99     10807\n",
            "   macro avg       0.99      0.99      0.99     10807\n",
            "weighted avg       0.99      0.99      0.99     10807\n",
            "\n"
          ]
        }
      ],
      "source": [
        "knn_pipeline = make_pipeline(StandardScaler(), KNeighborsClassifier(n_neighbors=3))\n",
        "add_metrics(run_model(knn_pipeline, x_train, y_train, x_val, y_val, x_test, y_test))"
      ]
    },
    {
      "cell_type": "markdown",
      "metadata": {
        "id": "4wLkPUdErwAm"
      },
      "source": [
        "### Gaussian Naive Bayes Classifier"
      ]
    },
    {
      "cell_type": "code",
      "execution_count": 14,
      "metadata": {
        "colab": {
          "base_uri": "https://localhost:8080/"
        },
        "id": "yFKhy6IlrwAm",
        "outputId": "3918f844-1329-41b4-efee-41477e4f6172"
      },
      "outputs": [
        {
          "name": "stdout",
          "output_type": "stream",
          "text": [
            "              precision    recall  f1-score   support\n",
            "\n",
            "           0       0.60      0.53      0.56      4872\n",
            "           1       0.65      0.71      0.68      5935\n",
            "\n",
            "    accuracy                           0.63     10807\n",
            "   macro avg       0.62      0.62      0.62     10807\n",
            "weighted avg       0.63      0.63      0.63     10807\n",
            "\n"
          ]
        }
      ],
      "source": [
        "nb_pipeline = make_pipeline(StandardScaler(), GaussianNB())\n",
        "add_metrics(run_model(nb_pipeline, x_train, y_train, x_val, y_val, x_test, y_test))"
      ]
    },
    {
      "cell_type": "markdown",
      "metadata": {
        "id": "Z1suJh5YrwAm"
      },
      "source": [
        "### Decision Tree Classifier"
      ]
    },
    {
      "cell_type": "code",
      "execution_count": 15,
      "metadata": {
        "colab": {
          "base_uri": "https://localhost:8080/"
        },
        "id": "ZQV6x89OrwAm",
        "outputId": "eb43336f-0a98-43ce-e0b7-8d235b0b1acf"
      },
      "outputs": [
        {
          "name": "stdout",
          "output_type": "stream",
          "text": [
            "              precision    recall  f1-score   support\n",
            "\n",
            "           0       0.97      0.97      0.97      4872\n",
            "           1       0.98      0.98      0.98      5935\n",
            "\n",
            "    accuracy                           0.98     10807\n",
            "   macro avg       0.98      0.98      0.98     10807\n",
            "weighted avg       0.98      0.98      0.98     10807\n",
            "\n"
          ]
        }
      ],
      "source": [
        "tree_pipeline = make_pipeline(StandardScaler(), tree.DecisionTreeClassifier())\n",
        "add_metrics(run_model(tree_pipeline, x_train, y_train, x_val, y_val, x_test, y_test))"
      ]
    },
    {
      "cell_type": "markdown",
      "metadata": {
        "id": "bVMLMDgqrwAn"
      },
      "source": [
        "### XGBoost Classifier"
      ]
    },
    {
      "cell_type": "code",
      "execution_count": 16,
      "metadata": {
        "colab": {
          "base_uri": "https://localhost:8080/"
        },
        "id": "PfIpTTgvrwAn",
        "outputId": "68ecc864-e347-45e2-aa16-09a5cba18fc0"
      },
      "outputs": [
        {
          "name": "stdout",
          "output_type": "stream",
          "text": [
            "              precision    recall  f1-score   support\n",
            "\n",
            "           0       0.99      0.99      0.99      4872\n",
            "           1       0.99      0.99      0.99      5935\n",
            "\n",
            "    accuracy                           0.99     10807\n",
            "   macro avg       0.99      0.99      0.99     10807\n",
            "weighted avg       0.99      0.99      0.99     10807\n",
            "\n"
          ]
        }
      ],
      "source": [
        "xg_pipeline = make_pipeline(StandardScaler(), xgb.XGBClassifier())\n",
        "add_metrics(run_model(xg_pipeline, x_train, y_train, x_val, y_val, x_test, y_test))"
      ]
    },
    {
      "cell_type": "markdown",
      "metadata": {
        "id": "8pF7Z6SkrwAn"
      },
      "source": [
        "### Neural Network"
      ]
    },
    {
      "cell_type": "code",
      "execution_count": 17,
      "metadata": {
        "id": "eAauZ5y9rwAn"
      },
      "outputs": [],
      "source": [
        "# First we need to scale the data for the neural network\n",
        "# This part was automatically handled with the help of pipelines in the previous examples\n",
        "# But for the neural network, we need to scale manually\n",
        "scaler = StandardScaler()\n",
        "x_train_scaled = scaler.fit_transform(x_train)\n",
        "x_val_scaled = scaler.transform(x_val)\n",
        "x_test_scaled = scaler.transform(x_test)"
      ]
    },
    {
      "cell_type": "code",
      "execution_count": 21,
      "metadata": {
        "id": "4kA1888brwAn"
      },
      "outputs": [],
      "source": [
        "# Neural network structure\n",
        "nn_model = tf.keras.Sequential([\n",
        "    tf.keras.layers.Dense(32, activation=\"relu\", input_shape=(x_train_scaled.shape[1],)),\n",
        "    tf.keras.layers.Dense(32, activation=\"relu\"),\n",
        "    tf.keras.layers.Dropout(0.05),\n",
        "    tf.keras.layers.Dense(32, activation=\"relu\"),\n",
        "    tf.keras.layers.Dropout(0.05),\n",
        "    # Last layer should be just one neuron\n",
        "    # We should use the sigmoid function because the output must be in between 0 and 1\n",
        "    tf.keras.layers.Dense(1, activation=\"sigmoid\")\n",
        "])"
      ]
    },
    {
      "cell_type": "code",
      "execution_count": 23,
      "metadata": {
        "id": "fZaDr5xcrwAn"
      },
      "outputs": [],
      "source": [
        "# Compiling the model\n",
        "# Loss function is binary_crossentropy to get the best results on binary classification\n",
        "nn_model.compile(optimizer=tf.keras.optimizers.Adam(0.001), loss=\"binary_crossentropy\", metrics=[\"accuracy\"])"
      ]
    },
    {
      "cell_type": "code",
      "execution_count": 25,
      "metadata": {
        "colab": {
          "base_uri": "https://localhost:8080/"
        },
        "id": "0d783P3BrwAo",
        "outputId": "acedec8c-6c6f-417e-d221-b06dda64037d"
      },
      "outputs": [
        {
          "name": "stdout",
          "output_type": "stream",
          "text": [
            "Epoch 1/80\n",
            "70/70 [==============================] - 0s 4ms/step - loss: 0.2411 - accuracy: 0.9027 - val_loss: 0.2040 - val_accuracy: 0.9242\n",
            "Epoch 2/80\n",
            "70/70 [==============================] - 0s 5ms/step - loss: 0.2301 - accuracy: 0.9089 - val_loss: 0.1942 - val_accuracy: 0.9294\n",
            "Epoch 3/80\n",
            "70/70 [==============================] - 0s 3ms/step - loss: 0.2224 - accuracy: 0.9116 - val_loss: 0.1858 - val_accuracy: 0.9340\n",
            "Epoch 4/80\n",
            "70/70 [==============================] - 0s 4ms/step - loss: 0.2145 - accuracy: 0.9170 - val_loss: 0.1811 - val_accuracy: 0.9340\n",
            "Epoch 5/80\n",
            "70/70 [==============================] - 0s 4ms/step - loss: 0.2090 - accuracy: 0.9185 - val_loss: 0.1745 - val_accuracy: 0.9362\n",
            "Epoch 6/80\n",
            "70/70 [==============================] - 0s 4ms/step - loss: 0.2033 - accuracy: 0.9213 - val_loss: 0.1696 - val_accuracy: 0.9403\n",
            "Epoch 7/80\n",
            "70/70 [==============================] - 0s 4ms/step - loss: 0.1987 - accuracy: 0.9242 - val_loss: 0.1625 - val_accuracy: 0.9419\n",
            "Epoch 8/80\n",
            "70/70 [==============================] - 0s 3ms/step - loss: 0.1913 - accuracy: 0.9277 - val_loss: 0.1610 - val_accuracy: 0.9434\n",
            "Epoch 9/80\n",
            "70/70 [==============================] - 0s 4ms/step - loss: 0.1862 - accuracy: 0.9293 - val_loss: 0.1557 - val_accuracy: 0.9441\n",
            "Epoch 10/80\n",
            "70/70 [==============================] - 0s 4ms/step - loss: 0.1825 - accuracy: 0.9303 - val_loss: 0.1524 - val_accuracy: 0.9466\n",
            "Epoch 11/80\n",
            "70/70 [==============================] - 0s 5ms/step - loss: 0.1807 - accuracy: 0.9304 - val_loss: 0.1519 - val_accuracy: 0.9467\n",
            "Epoch 12/80\n",
            "70/70 [==============================] - 0s 3ms/step - loss: 0.1752 - accuracy: 0.9335 - val_loss: 0.1447 - val_accuracy: 0.9476\n",
            "Epoch 13/80\n",
            "70/70 [==============================] - 0s 4ms/step - loss: 0.1728 - accuracy: 0.9355 - val_loss: 0.1416 - val_accuracy: 0.9492\n",
            "Epoch 14/80\n",
            "70/70 [==============================] - 0s 4ms/step - loss: 0.1684 - accuracy: 0.9353 - val_loss: 0.1427 - val_accuracy: 0.9495\n",
            "Epoch 15/80\n",
            "70/70 [==============================] - 0s 4ms/step - loss: 0.1643 - accuracy: 0.9383 - val_loss: 0.1387 - val_accuracy: 0.9499\n",
            "Epoch 16/80\n",
            "70/70 [==============================] - 0s 4ms/step - loss: 0.1626 - accuracy: 0.9390 - val_loss: 0.1339 - val_accuracy: 0.9526\n",
            "Epoch 17/80\n",
            "70/70 [==============================] - 0s 4ms/step - loss: 0.1583 - accuracy: 0.9396 - val_loss: 0.1308 - val_accuracy: 0.9541\n",
            "Epoch 18/80\n",
            "70/70 [==============================] - 0s 4ms/step - loss: 0.1527 - accuracy: 0.9424 - val_loss: 0.1280 - val_accuracy: 0.9547\n",
            "Epoch 19/80\n",
            "70/70 [==============================] - 0s 4ms/step - loss: 0.1502 - accuracy: 0.9442 - val_loss: 0.1263 - val_accuracy: 0.9550\n",
            "Epoch 20/80\n",
            "70/70 [==============================] - 0s 4ms/step - loss: 0.1504 - accuracy: 0.9436 - val_loss: 0.1247 - val_accuracy: 0.9549\n",
            "Epoch 21/80\n",
            "70/70 [==============================] - 0s 4ms/step - loss: 0.1476 - accuracy: 0.9460 - val_loss: 0.1201 - val_accuracy: 0.9586\n",
            "Epoch 22/80\n",
            "70/70 [==============================] - 0s 4ms/step - loss: 0.1440 - accuracy: 0.9476 - val_loss: 0.1188 - val_accuracy: 0.9582\n",
            "Epoch 23/80\n",
            "70/70 [==============================] - 0s 4ms/step - loss: 0.1413 - accuracy: 0.9475 - val_loss: 0.1164 - val_accuracy: 0.9585\n",
            "Epoch 24/80\n",
            "70/70 [==============================] - 0s 4ms/step - loss: 0.1398 - accuracy: 0.9477 - val_loss: 0.1129 - val_accuracy: 0.9601\n",
            "Epoch 25/80\n",
            "70/70 [==============================] - 0s 4ms/step - loss: 0.1344 - accuracy: 0.9496 - val_loss: 0.1130 - val_accuracy: 0.9606\n",
            "Epoch 26/80\n",
            "70/70 [==============================] - 0s 4ms/step - loss: 0.1363 - accuracy: 0.9485 - val_loss: 0.1104 - val_accuracy: 0.9621\n",
            "Epoch 27/80\n",
            "70/70 [==============================] - 0s 4ms/step - loss: 0.1348 - accuracy: 0.9499 - val_loss: 0.1089 - val_accuracy: 0.9617\n",
            "Epoch 28/80\n",
            "70/70 [==============================] - 0s 4ms/step - loss: 0.1315 - accuracy: 0.9512 - val_loss: 0.1072 - val_accuracy: 0.9610\n",
            "Epoch 29/80\n",
            "70/70 [==============================] - 0s 4ms/step - loss: 0.1276 - accuracy: 0.9529 - val_loss: 0.1055 - val_accuracy: 0.9636\n",
            "Epoch 30/80\n",
            "70/70 [==============================] - 0s 3ms/step - loss: 0.1274 - accuracy: 0.9523 - val_loss: 0.1036 - val_accuracy: 0.9637\n",
            "Epoch 31/80\n",
            "70/70 [==============================] - 0s 5ms/step - loss: 0.1274 - accuracy: 0.9528 - val_loss: 0.1031 - val_accuracy: 0.9638\n",
            "Epoch 32/80\n",
            "70/70 [==============================] - 0s 6ms/step - loss: 0.1246 - accuracy: 0.9543 - val_loss: 0.0980 - val_accuracy: 0.9651\n",
            "Epoch 33/80\n",
            "70/70 [==============================] - 0s 6ms/step - loss: 0.1223 - accuracy: 0.9546 - val_loss: 0.1011 - val_accuracy: 0.9651\n",
            "Epoch 34/80\n",
            "70/70 [==============================] - 0s 6ms/step - loss: 0.1209 - accuracy: 0.9552 - val_loss: 0.0978 - val_accuracy: 0.9650\n",
            "Epoch 35/80\n",
            "70/70 [==============================] - 0s 6ms/step - loss: 0.1167 - accuracy: 0.9561 - val_loss: 0.0921 - val_accuracy: 0.9666\n",
            "Epoch 36/80\n",
            "70/70 [==============================] - 0s 6ms/step - loss: 0.1178 - accuracy: 0.9565 - val_loss: 0.0939 - val_accuracy: 0.9673\n",
            "Epoch 37/80\n",
            "70/70 [==============================] - 0s 6ms/step - loss: 0.1150 - accuracy: 0.9568 - val_loss: 0.0917 - val_accuracy: 0.9678\n",
            "Epoch 38/80\n",
            "70/70 [==============================] - 0s 5ms/step - loss: 0.1153 - accuracy: 0.9575 - val_loss: 0.0923 - val_accuracy: 0.9651\n",
            "Epoch 39/80\n",
            "70/70 [==============================] - 0s 6ms/step - loss: 0.1123 - accuracy: 0.9576 - val_loss: 0.0887 - val_accuracy: 0.9697\n",
            "Epoch 40/80\n",
            "70/70 [==============================] - 0s 6ms/step - loss: 0.1129 - accuracy: 0.9567 - val_loss: 0.0909 - val_accuracy: 0.9692\n",
            "Epoch 41/80\n",
            "70/70 [==============================] - 0s 4ms/step - loss: 0.1073 - accuracy: 0.9600 - val_loss: 0.0858 - val_accuracy: 0.9707\n",
            "Epoch 42/80\n",
            "70/70 [==============================] - 0s 4ms/step - loss: 0.1073 - accuracy: 0.9602 - val_loss: 0.0849 - val_accuracy: 0.9687\n",
            "Epoch 43/80\n",
            "70/70 [==============================] - 0s 3ms/step - loss: 0.1051 - accuracy: 0.9609 - val_loss: 0.0857 - val_accuracy: 0.9691\n",
            "Epoch 44/80\n",
            "70/70 [==============================] - 0s 4ms/step - loss: 0.1055 - accuracy: 0.9616 - val_loss: 0.0810 - val_accuracy: 0.9727\n",
            "Epoch 45/80\n",
            "70/70 [==============================] - 0s 4ms/step - loss: 0.1043 - accuracy: 0.9609 - val_loss: 0.0814 - val_accuracy: 0.9720\n",
            "Epoch 46/80\n",
            "70/70 [==============================] - 0s 4ms/step - loss: 0.1020 - accuracy: 0.9622 - val_loss: 0.0832 - val_accuracy: 0.9718\n",
            "Epoch 47/80\n",
            "70/70 [==============================] - 0s 4ms/step - loss: 0.1019 - accuracy: 0.9623 - val_loss: 0.0789 - val_accuracy: 0.9731\n",
            "Epoch 48/80\n",
            "70/70 [==============================] - 0s 4ms/step - loss: 0.0990 - accuracy: 0.9629 - val_loss: 0.0789 - val_accuracy: 0.9720\n",
            "Epoch 49/80\n",
            "70/70 [==============================] - 0s 4ms/step - loss: 0.0982 - accuracy: 0.9632 - val_loss: 0.0788 - val_accuracy: 0.9727\n",
            "Epoch 50/80\n",
            "70/70 [==============================] - 0s 3ms/step - loss: 0.0964 - accuracy: 0.9644 - val_loss: 0.0745 - val_accuracy: 0.9746\n",
            "Epoch 51/80\n",
            "70/70 [==============================] - 0s 4ms/step - loss: 0.0962 - accuracy: 0.9647 - val_loss: 0.0753 - val_accuracy: 0.9736\n",
            "Epoch 52/80\n",
            "70/70 [==============================] - 0s 4ms/step - loss: 0.0956 - accuracy: 0.9654 - val_loss: 0.0732 - val_accuracy: 0.9751\n",
            "Epoch 53/80\n",
            "70/70 [==============================] - 0s 4ms/step - loss: 0.0953 - accuracy: 0.9640 - val_loss: 0.0729 - val_accuracy: 0.9757\n",
            "Epoch 54/80\n",
            "70/70 [==============================] - 0s 4ms/step - loss: 0.0956 - accuracy: 0.9648 - val_loss: 0.0730 - val_accuracy: 0.9757\n",
            "Epoch 55/80\n",
            "70/70 [==============================] - 0s 4ms/step - loss: 0.0918 - accuracy: 0.9660 - val_loss: 0.0716 - val_accuracy: 0.9741\n",
            "Epoch 56/80\n",
            "70/70 [==============================] - 0s 4ms/step - loss: 0.0950 - accuracy: 0.9649 - val_loss: 0.0708 - val_accuracy: 0.9759\n",
            "Epoch 57/80\n",
            "70/70 [==============================] - 0s 4ms/step - loss: 0.0934 - accuracy: 0.9651 - val_loss: 0.0708 - val_accuracy: 0.9737\n",
            "Epoch 58/80\n",
            "70/70 [==============================] - 0s 4ms/step - loss: 0.0923 - accuracy: 0.9659 - val_loss: 0.0685 - val_accuracy: 0.9778\n",
            "Epoch 59/80\n",
            "70/70 [==============================] - 0s 4ms/step - loss: 0.0894 - accuracy: 0.9678 - val_loss: 0.0681 - val_accuracy: 0.9765\n",
            "Epoch 60/80\n",
            "70/70 [==============================] - 0s 5ms/step - loss: 0.0924 - accuracy: 0.9660 - val_loss: 0.0702 - val_accuracy: 0.9756\n",
            "Epoch 61/80\n",
            "70/70 [==============================] - 0s 4ms/step - loss: 0.0892 - accuracy: 0.9675 - val_loss: 0.0661 - val_accuracy: 0.9780\n",
            "Epoch 62/80\n",
            "70/70 [==============================] - 0s 3ms/step - loss: 0.0887 - accuracy: 0.9679 - val_loss: 0.0686 - val_accuracy: 0.9750\n",
            "Epoch 63/80\n",
            "70/70 [==============================] - 0s 4ms/step - loss: 0.0844 - accuracy: 0.9693 - val_loss: 0.0669 - val_accuracy: 0.9771\n",
            "Epoch 64/80\n",
            "70/70 [==============================] - 0s 4ms/step - loss: 0.0873 - accuracy: 0.9675 - val_loss: 0.0659 - val_accuracy: 0.9763\n",
            "Epoch 65/80\n",
            "70/70 [==============================] - 0s 4ms/step - loss: 0.0839 - accuracy: 0.9696 - val_loss: 0.0647 - val_accuracy: 0.9781\n",
            "Epoch 66/80\n",
            "70/70 [==============================] - 0s 4ms/step - loss: 0.0828 - accuracy: 0.9694 - val_loss: 0.0637 - val_accuracy: 0.9789\n",
            "Epoch 67/80\n",
            "70/70 [==============================] - 0s 5ms/step - loss: 0.0846 - accuracy: 0.9690 - val_loss: 0.0623 - val_accuracy: 0.9788\n",
            "Epoch 68/80\n",
            "70/70 [==============================] - 0s 4ms/step - loss: 0.0815 - accuracy: 0.9693 - val_loss: 0.0603 - val_accuracy: 0.9792\n",
            "Epoch 69/80\n",
            "70/70 [==============================] - 0s 4ms/step - loss: 0.0822 - accuracy: 0.9688 - val_loss: 0.0636 - val_accuracy: 0.9781\n",
            "Epoch 70/80\n",
            "70/70 [==============================] - 0s 4ms/step - loss: 0.0805 - accuracy: 0.9719 - val_loss: 0.0598 - val_accuracy: 0.9803\n",
            "Epoch 71/80\n",
            "70/70 [==============================] - 0s 4ms/step - loss: 0.0804 - accuracy: 0.9695 - val_loss: 0.0614 - val_accuracy: 0.9780\n",
            "Epoch 72/80\n",
            "70/70 [==============================] - 0s 4ms/step - loss: 0.0806 - accuracy: 0.9695 - val_loss: 0.0605 - val_accuracy: 0.9796\n",
            "Epoch 73/80\n",
            "70/70 [==============================] - 0s 4ms/step - loss: 0.0791 - accuracy: 0.9701 - val_loss: 0.0580 - val_accuracy: 0.9800\n",
            "Epoch 74/80\n",
            "70/70 [==============================] - 0s 4ms/step - loss: 0.0790 - accuracy: 0.9698 - val_loss: 0.0571 - val_accuracy: 0.9814\n",
            "Epoch 75/80\n",
            "70/70 [==============================] - 0s 4ms/step - loss: 0.0765 - accuracy: 0.9726 - val_loss: 0.0557 - val_accuracy: 0.9824\n",
            "Epoch 76/80\n",
            "70/70 [==============================] - 0s 6ms/step - loss: 0.0793 - accuracy: 0.9708 - val_loss: 0.0579 - val_accuracy: 0.9808\n",
            "Epoch 77/80\n",
            "70/70 [==============================] - 0s 5ms/step - loss: 0.0786 - accuracy: 0.9703 - val_loss: 0.0589 - val_accuracy: 0.9795\n",
            "Epoch 78/80\n",
            "70/70 [==============================] - 0s 5ms/step - loss: 0.0785 - accuracy: 0.9710 - val_loss: 0.0577 - val_accuracy: 0.9802\n",
            "Epoch 79/80\n",
            "70/70 [==============================] - 0s 6ms/step - loss: 0.0766 - accuracy: 0.9718 - val_loss: 0.0567 - val_accuracy: 0.9808\n",
            "Epoch 80/80\n",
            "70/70 [==============================] - 0s 6ms/step - loss: 0.0757 - accuracy: 0.9719 - val_loss: 0.0557 - val_accuracy: 0.9798\n",
            "271/271 [==============================] - 1s 2ms/step\n",
            "338/338 [==============================] - 0s 1ms/step\n",
            "              precision    recall  f1-score   support\n",
            "\n",
            "           0       0.97      0.98      0.98      4872\n",
            "           1       0.98      0.98      0.98      5935\n",
            "\n",
            "    accuracy                           0.98     10807\n",
            "   macro avg       0.98      0.98      0.98     10807\n",
            "weighted avg       0.98      0.98      0.98     10807\n",
            "\n"
          ]
        }
      ],
      "source": [
        "# Parameters are tuned to get the best results\n",
        "history = nn_model.fit(x_train_scaled, y_train, epochs=80, batch_size=500, validation_data=(x_val_scaled, y_val))\n",
        "# Prediction will be between 0 and 1 because of the sigmoid function\n",
        "# Making these predictions binary with these lines\n",
        "y_val_pred_nn = (nn_model.predict(x_val_scaled) > 0.5).astype(\"int32\").reshape(-1)\n",
        "y_test_pred_nn = (nn_model.predict(x_test_scaled) > 0.5).astype(\"int32\").reshape(-1)\n",
        "\n",
        "# Metrics dictionary just like in other models' format\n",
        "nn_metrics = {\n",
        "    'Model': 'Neural Network',\n",
        "    'Validation Accuracy': accuracy_score(y_val, y_val_pred_nn),\n",
        "    'Test Accuracy': accuracy_score(y_test, y_test_pred_nn),\n",
        "    'Validation Precision': precision_score(y_val, y_val_pred_nn),\n",
        "    'Test Precision': precision_score(y_test, y_test_pred_nn),\n",
        "    'Validation Recall': recall_score(y_val, y_val_pred_nn),\n",
        "    'Test Recall': recall_score(y_test, y_test_pred_nn),\n",
        "    'Validation F1': f1_score(y_val, y_val_pred_nn),\n",
        "    'Test F1': f1_score(y_test, y_test_pred_nn)\n",
        "}\n",
        "print(classification_report(y_test, y_test_pred_nn))\n",
        "add_metrics(nn_metrics)"
      ]
    },
    {
      "cell_type": "markdown",
      "metadata": {
        "id": "yHO6y0PKrwAo"
      },
      "source": [
        "# Making a graph of the performance metrics of the models"
      ]
    },
    {
      "cell_type": "code",
      "execution_count": 26,
      "metadata": {
        "id": "uh5vQxiBrwAo"
      },
      "outputs": [],
      "source": [
        "def plot_metrics(metrics_df):\n",
        "    metrics_melted = metrics_df.melt(id_vars=['Model'], var_name='Metric', value_name='Score')\n",
        "    plt.figure(figsize=(15, 8))\n",
        "    sns.barplot(x='Metric', y='Score', hue='Model', data=metrics_melted)\n",
        "    plt.xticks(rotation=45)\n",
        "    plt.title('Model Performance Comparison')\n",
        "    plt.ylabel('Score')\n",
        "    plt.xlabel('Metric')\n",
        "    plt.legend(loc='lower right')\n",
        "    plt.show()"
      ]
    },
    {
      "cell_type": "code",
      "execution_count": 27,
      "metadata": {
        "colab": {
          "base_uri": "https://localhost:8080/",
          "height": 811
        },
        "id": "jkOn7Bu-rwAo",
        "outputId": "07737c6c-c430-443b-90f8-65c2c4826ce9"
      },
      "outputs": [
        {
          "data": {
            "image/png": "[encoded data removed]",
            "text/plain": [
              "<Figure size 1500x800 with 1 Axes>"
            ]
          },
          "metadata": {},
          "output_type": "display_data"
        }
      ],
      "source": [
        "plot_metrics(pd.DataFrame(metrics_list))"
      ]
    }
  ],
  "metadata": {
    "colab": {
      "provenance": []
    },
    "kernelspec": {
      "display_name": "Python 3",
      "language": "python",
      "name": "python3"
    },
    "language_info": {
      "codemirror_mode": {
        "name": "ipython",
        "version": 3
      },
      "file_extension": ".py",
      "mimetype": "text/x-python",
      "name": "python",
      "nbconvert_exporter": "python",
      "pygments_lexer": "ipython3",
      "version": "3.12.4"
    }
  },
  "nbformat": 4,
  "nbformat_minor": 0
}
